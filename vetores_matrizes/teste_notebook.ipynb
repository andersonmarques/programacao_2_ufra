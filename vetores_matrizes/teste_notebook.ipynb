{
 "cells": [
  {
   "cell_type": "code",
   "execution_count": 2,
   "metadata": {},
   "outputs": [
    {
     "name": "stdout",
     "output_type": "stream",
     "text": [
      "[[0.88 0.76 0.31 0.64 0.29 0.81]\n",
      " [0.28 0.89 0.2  0.85 0.54 0.22]\n",
      " [0.14 0.59 0.59 0.31 0.59 0.36]]\n",
      "Soma de vendas: 9.27\n",
      "Vendedor top: Vendedor  3\n"
     ]
    }
   ],
   "source": [
    "import numpy as np\n",
    "\n",
    "matriz = np.random.rand(3,6)\n",
    "\n",
    "soma_vendas = 0\n",
    "soma_vendedor = 0\n",
    "valor_vendedor_top = 0\n",
    "vendedor_top = \"\"\n",
    "\n",
    "for i in range(0, len(matriz)):\n",
    "    soma_vendedor += soma_vendedor\n",
    "\n",
    "    if soma_vendedor >= valor_vendedor_top:\n",
    "        vendedor_top = f\"Vendedor  {i+1}\"\n",
    "        \n",
    "    for j in range(0, len(matriz[0])):\n",
    "        soma_vendas += matriz[i][j]\n",
    "\n",
    "print(np.round(matriz,2))\n",
    "print('Soma de vendas: {:.2f}'.format(soma_vendas))\n",
    "print(f'Vendedor top: {vendedor_top}')"
   ]
  }
 ],
 "metadata": {
  "interpreter": {
   "hash": "63fd5069d213b44bf678585dea6b12cceca9941eaf7f819626cde1f2670de90d"
  },
  "kernelspec": {
   "display_name": "Python 3.9.1 64-bit",
   "name": "python3"
  },
  "language_info": {
   "codemirror_mode": {
    "name": "ipython",
    "version": 3
   },
   "file_extension": ".py",
   "mimetype": "text/x-python",
   "name": "python",
   "nbconvert_exporter": "python",
   "pygments_lexer": "ipython3",
   "version": "3.9.1"
  },
  "orig_nbformat": 4
 },
 "nbformat": 4,
 "nbformat_minor": 2
}
