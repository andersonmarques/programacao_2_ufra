{
 "cells": [
  {
   "cell_type": "markdown",
   "metadata": {},
   "source": [
    "### Biblioteca Numpy (numerical python):</H1>\n",
    "https://numpy.org/"
   ]
  },
  {
   "cell_type": "markdown",
   "metadata": {},
   "source": [
    "#### Para instalar o numpy digite no terminal:\n",
    "pip install numpy"
   ]
  },
  {
   "cell_type": "code",
   "execution_count": 1,
   "metadata": {},
   "outputs": [],
   "source": [
    "#importando a biblioteca (lib) numpy\n",
    "import numpy as np #np é um apelido para facilitar a nossa chamada a lib"
   ]
  },
  {
   "cell_type": "code",
   "execution_count": 24,
   "metadata": {},
   "outputs": [
    {
     "data": {
      "text/plain": [
       "array([  6,  12,   6,   7,   8,   1,   0,   3,   5, 106], dtype=int32)"
      ]
     },
     "execution_count": 24,
     "metadata": {},
     "output_type": "execute_result"
    }
   ],
   "source": [
    "numeros = np.array([6,12,6,7,8,1,0,3,5,106], dtype='i')\n",
    "\n",
    "numeros"
   ]
  },
  {
   "cell_type": "code",
   "execution_count": 17,
   "metadata": {},
   "outputs": [
    {
     "name": "stdout",
     "output_type": "stream",
     "text": [
      "False\n"
     ]
    }
   ],
   "source": [
    "print(numeros[6] == numeros[7])"
   ]
  },
  {
   "cell_type": "code",
   "execution_count": 10,
   "metadata": {},
   "outputs": [
    {
     "name": "stdout",
     "output_type": "stream",
     "text": [
      "<class 'numpy.ndarray'>\n"
     ]
    }
   ],
   "source": [
    "#descobrindo o tipo de dado do array\n",
    "print(type(numeros))"
   ]
  },
  {
   "cell_type": "code",
   "execution_count": 11,
   "metadata": {},
   "outputs": [
    {
     "name": "stdout",
     "output_type": "stream",
     "text": [
      "int32\n"
     ]
    }
   ],
   "source": [
    "#descobrindo o tipo dos dados\n",
    "print(numeros.dtype)"
   ]
  },
  {
   "cell_type": "code",
   "execution_count": 18,
   "metadata": {},
   "outputs": [
    {
     "name": "stdout",
     "output_type": "stream",
     "text": [
      "1\n"
     ]
    }
   ],
   "source": [
    "#imprimindo o numero de dimensoes de um array\n",
    "print(numeros.ndim)"
   ]
  },
  {
   "cell_type": "code",
   "execution_count": 19,
   "metadata": {},
   "outputs": [
    {
     "name": "stdout",
     "output_type": "stream",
     "text": [
      "(10,)\n"
     ]
    }
   ],
   "source": [
    "#tamanho do array\n",
    "print(numeros.shape)"
   ]
  },
  {
   "cell_type": "code",
   "execution_count": 21,
   "metadata": {},
   "outputs": [
    {
     "name": "stdout",
     "output_type": "stream",
     "text": [
      "10\n"
     ]
    }
   ],
   "source": [
    "print(len(numeros))"
   ]
  },
  {
   "cell_type": "code",
   "execution_count": 20,
   "metadata": {},
   "outputs": [
    {
     "name": "stdout",
     "output_type": "stream",
     "text": [
      "10\n"
     ]
    }
   ],
   "source": [
    "#numero de elementos de um array\n",
    "print(numeros.size)"
   ]
  },
  {
   "cell_type": "code",
   "execution_count": 25,
   "metadata": {},
   "outputs": [
    {
     "name": "stdout",
     "output_type": "stream",
     "text": [
      "[  6  12   6   7   8   1   0   3   5 106]\n"
     ]
    }
   ],
   "source": [
    "#imprimindo um array para ver o conteúdo\n",
    "print(numeros)"
   ]
  },
  {
   "cell_type": "code",
   "execution_count": 23,
   "metadata": {},
   "outputs": [
    {
     "name": "stdout",
     "output_type": "stream",
     "text": [
      "6\n",
      "12\n",
      "8\n",
      "106\n",
      "106\n",
      "5\n",
      "3\n"
     ]
    }
   ],
   "source": [
    "#acessando elementos individuais de um array\n",
    "print(numeros[0])# primeira posicao do array\n",
    "print(numeros[1])# segunda posicao do array\n",
    "print(numeros[4])\n",
    "print(numeros[9])#ultimo elemento é sempre n-1\n",
    "print(numeros[-1]) #ultima posicao do array\n",
    "print(numeros[-2]) #penúltima posicao do array\n",
    "print(numeros[-3]) #antepenúltima posicao do array\n"
   ]
  },
  {
   "cell_type": "code",
   "execution_count": 26,
   "metadata": {},
   "outputs": [
    {
     "name": "stdout",
     "output_type": "stream",
     "text": [
      "3\n"
     ]
    }
   ],
   "source": [
    "#fazendo alteracoes no vetor\n",
    "numeros[0] = 3\n",
    "print(numeros[0])"
   ]
  },
  {
   "cell_type": "markdown",
   "metadata": {},
   "source": [
    "<H1>Peenchendo arrays com valores específicos</H1>"
   ]
  },
  {
   "cell_type": "code",
   "execution_count": 27,
   "metadata": {},
   "outputs": [
    {
     "name": "stdout",
     "output_type": "stream",
     "text": [
      "[  0   2   4   6   8  10  12  14  16  18  20  22  24  26  28  30  32  34\n",
      "  36  38  40  42  44  46  48  50  52  54  56  58  60  62  64  66  68  70\n",
      "  72  74  76  78  80  82  84  86  88  90  92  94  96  98 100]\n"
     ]
    }
   ],
   "source": [
    "# lista = []\n",
    "# for n in range(0, 101, 2):\n",
    "#     lista.append(n)\n",
    "# pares = np.array(lista)\n",
    "#criar um array com numeros pares de 0 a 100\n",
    "pares = np.array([n for n in range(0, 101,2)])\n",
    "print(pares)"
   ]
  },
  {
   "cell_type": "code",
   "execution_count": 32,
   "metadata": {},
   "outputs": [
    {
     "name": "stdout",
     "output_type": "stream",
     "text": [
      "[0. 0. 0. 0. 0. 0. 0. 0. 0. 0.]\n"
     ]
    }
   ],
   "source": [
    "#cria um array com 10 elementos iguais a zero\n",
    "print(np.zeros(10)) "
   ]
  },
  {
   "cell_type": "code",
   "execution_count": 28,
   "metadata": {},
   "outputs": [
    {
     "name": "stdout",
     "output_type": "stream",
     "text": [
      "[1. 1. 1. 1. 1. 1. 1. 1. 1. 1. 1. 1. 1. 1. 1.]\n"
     ]
    }
   ],
   "source": [
    "#cria um array com 15 elementos iguais a um\n",
    "print(np.ones(15))"
   ]
  },
  {
   "cell_type": "code",
   "execution_count": 29,
   "metadata": {},
   "outputs": [
    {
     "name": "stdout",
     "output_type": "stream",
     "text": [
      "[12 12 12 12 12 12 12 12]\n"
     ]
    }
   ],
   "source": [
    "#criar array com 8 posicoes iguais a 12 (int)\n",
    "#primeiro argumento: num de elementos\n",
    "#segundo argumento: o valor que ira preencher em cada posicao do array\n",
    "print(np.full(8, 12))"
   ]
  },
  {
   "cell_type": "code",
   "execution_count": 37,
   "metadata": {},
   "outputs": [
    {
     "name": "stdout",
     "output_type": "stream",
     "text": [
      "[0 0 0 0 0 0 0 0 0 0]\n",
      "[1 1 1 1 1 1 1 1 1 1 1 1 1 1 1]\n",
      "[12. 12. 12. 12. 12. 12. 12. 12.]\n"
     ]
    }
   ],
   "source": [
    "#Podemos especificar o tipo de dados dos elementos\n",
    "print(np.zeros(10, dtype = int)) \n",
    "print(np.ones(15, dtype = int))\n",
    "print(np.full(8, 12, dtype = float))"
   ]
  },
  {
   "cell_type": "markdown",
   "metadata": {},
   "source": [
    "<H1>Criar array a partir de faixas de valores</H1>"
   ]
  },
  {
   "cell_type": "code",
   "execution_count": 31,
   "metadata": {},
   "outputs": [
    {
     "name": "stdout",
     "output_type": "stream",
     "text": [
      "[0 1 2 3 4 5 6 7 8 9]\n",
      "[0. 1. 2. 3. 4. 5. 6. 7. 8. 9.]\n",
      "[ 5  6  7  8  9 10 11 12 13 14 15]\n",
      "[50 48 46 44 42 40 38 36 34 32 30 28 26 24 22 20 18 16 14 12 10  8  6  4\n",
      "  2]\n"
     ]
    }
   ],
   "source": [
    "print(np.arange(10))#array de 10 elementos, numeros de 0 a 9\n",
    "print(np.arange(10.))#array de 10 elementos float, numeros de 0 a 9\n",
    "print(np.arange(5,16))#array com valores no intervalo de 5 a 15\n",
    "print(np.arange(50, 1, -2))#array com os numeros pares de 50 ate 1"
   ]
  },
  {
   "cell_type": "code",
   "execution_count": 38,
   "metadata": {},
   "outputs": [
    {
     "name": "stdout",
     "output_type": "stream",
     "text": [
      "25\n"
     ]
    }
   ],
   "source": [
    "from random import randint\n",
    "teste = randint(1, 100)\n",
    "print(teste)"
   ]
  },
  {
   "cell_type": "code",
   "execution_count": 40,
   "metadata": {},
   "outputs": [
    {
     "name": "stdout",
     "output_type": "stream",
     "text": [
      "[24 35 73 37  7 94 51 94 17 87]\n"
     ]
    }
   ],
   "source": [
    "#criar e preencher array com valores aleatorios\n",
    "a = np.random.randint(1, 100, size=10)\n",
    "print(a)"
   ]
  },
  {
   "cell_type": "code",
   "execution_count": 50,
   "metadata": {},
   "outputs": [
    {
     "name": "stdout",
     "output_type": "stream",
     "text": [
      "Número sorteado: 7\n"
     ]
    }
   ],
   "source": [
    "#Gera um numero aleatorio entre 0 e 8\n",
    "print(f'Número sorteado: {np.random.randint(9)}')"
   ]
  },
  {
   "cell_type": "code",
   "execution_count": 41,
   "metadata": {},
   "outputs": [
    {
     "name": "stdout",
     "output_type": "stream",
     "text": [
      "[15 16 16 17 12 10 15 16 16 16]\n"
     ]
    }
   ],
   "source": [
    "#Gera 10 numeros aleatorios inteiros entre 10 e 20\n",
    "b = np.random.randint(10, 20, size=10)\n",
    "print(b)"
   ]
  },
  {
   "cell_type": "markdown",
   "metadata": {},
   "source": [
    "<H1>Um pouco de estatistica ....</H1>"
   ]
  },
  {
   "cell_type": "code",
   "execution_count": 61,
   "metadata": {},
   "outputs": [
    {
     "name": "stdout",
     "output_type": "stream",
     "text": [
      "Média de b: 16.0\n",
      "Mediana de b: 18.0\n",
      "Menor valor de b: 10\n",
      "Maior valor de b: 19\n",
      "------------------\n",
      "Somatoria de b: 160\n"
     ]
    }
   ],
   "source": [
    "print(f'Média de b: {np.mean(b)}')#calculo da media artimetica\n",
    "print(f'Mediana de b: {np.median(b)}')#calculo da mediana\n",
    "print(f'Menor valor de b: {np.min(b)}')\n",
    "print(f'Maior valor de b: {np.max(b)}')\n",
    "print('------------------')\n",
    "print(f'Somatoria de b: {np.sum(b)}')"
   ]
  },
  {
   "cell_type": "code",
   "execution_count": 44,
   "metadata": {},
   "outputs": [
    {
     "name": "stdout",
     "output_type": "stream",
     "text": [
      "[24 35 73 37  7 94 51 94 17 87]\n",
      "[15 16 16 17 12 10 15 16 16 16]\n",
      "7674\n"
     ]
    }
   ],
   "source": [
    "mult_matrizes = np.dot(a,b)\n",
    "print(a)\n",
    "print(b)\n",
    "print(mult_matrizes)"
   ]
  },
  {
   "cell_type": "code",
   "execution_count": 45,
   "metadata": {},
   "outputs": [
    {
     "name": "stdout",
     "output_type": "stream",
     "text": [
      "[[16 19]\n",
      " [26 31]]\n"
     ]
    }
   ],
   "source": [
    "p = [[1,2],\n",
    "     [2,3]]\n",
    "\n",
    "q = [[4,5],\n",
    "     [6,7]]\n",
    "\n",
    "result = np.dot(p,q)\n",
    "np.linalg.det(p)\n",
    "print(result)"
   ]
  },
  {
   "cell_type": "code",
   "execution_count": null,
   "metadata": {},
   "outputs": [],
   "source": []
  }
 ],
 "metadata": {
  "kernelspec": {
   "display_name": "Python 3.8.2 64-bit",
   "language": "python",
   "name": "python3"
  },
  "language_info": {
   "codemirror_mode": {
    "name": "ipython",
    "version": 3
   },
   "file_extension": ".py",
   "mimetype": "text/x-python",
   "name": "python",
   "nbconvert_exporter": "python",
   "pygments_lexer": "ipython3",
   "version": "3.8.2"
  },
  "orig_nbformat": 4,
  "vscode": {
   "interpreter": {
    "hash": "14dfff0490b35a337b281f86e5029632e312d6116492535309c6b92b161bd515"
   }
  }
 },
 "nbformat": 4,
 "nbformat_minor": 2
}
