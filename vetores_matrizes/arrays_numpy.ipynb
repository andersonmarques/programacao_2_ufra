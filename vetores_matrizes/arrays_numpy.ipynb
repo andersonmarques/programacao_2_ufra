{
 "cells": [
  {
   "cell_type": "markdown",
   "metadata": {},
   "source": [
    "<H1>Biblioteca Numpy (numerical python):</H1>\n",
    "https://numpy.org/"
   ]
  },
  {
   "cell_type": "markdown",
   "metadata": {},
   "source": [
    "<h1>Para instalar o numpy digite no terminal:</h1>\n",
    "pip install numpy"
   ]
  },
  {
   "cell_type": "code",
   "execution_count": 4,
   "metadata": {},
   "outputs": [],
   "source": [
    "#importando a biblioteca (lib) numpy\n",
    "import numpy as np #np é um apelido para facilitar a nossa chamada a lib"
   ]
  },
  {
   "cell_type": "code",
   "execution_count": 66,
   "metadata": {},
   "outputs": [
    {
     "data": {
      "text/plain": [
       "array([ 6, 12,  6,  7,  8,  1,  0,  3,  5, 16], dtype=int16)"
      ]
     },
     "execution_count": 66,
     "metadata": {},
     "output_type": "execute_result"
    }
   ],
   "source": [
    "numeros = np.array([6,12,6,7,8,1,0,3,5,16], np.int16)\n",
    "\n",
    "numeros"
   ]
  },
  {
   "cell_type": "code",
   "execution_count": 68,
   "metadata": {},
   "outputs": [
    {
     "name": "stdout",
     "output_type": "stream",
     "text": [
      "<class 'bool'>\n",
      "<class 'numpy.ndarray'>\n"
     ]
    }
   ],
   "source": [
    "#descobrindo o tipo de dado do array\n",
    "print(type(numeros))"
   ]
  },
  {
   "cell_type": "code",
   "execution_count": 67,
   "metadata": {},
   "outputs": [
    {
     "name": "stdout",
     "output_type": "stream",
     "text": [
      "int16\n"
     ]
    }
   ],
   "source": [
    "#descobrindo o tipo dos dados\n",
    "print(numeros.dtype)"
   ]
  },
  {
   "cell_type": "code",
   "execution_count": 69,
   "metadata": {},
   "outputs": [
    {
     "name": "stdout",
     "output_type": "stream",
     "text": [
      "1\n"
     ]
    }
   ],
   "source": [
    "#imprimindo o numero de dimensoes de um array\n",
    "print(numeros.ndim)"
   ]
  },
  {
   "cell_type": "code",
   "execution_count": 27,
   "metadata": {},
   "outputs": [
    {
     "name": "stdout",
     "output_type": "stream",
     "text": [
      "(10,)\n"
     ]
    }
   ],
   "source": [
    "#tamanho do array\n",
    "print(numeros.shape)"
   ]
  },
  {
   "cell_type": "code",
   "execution_count": 70,
   "metadata": {},
   "outputs": [
    {
     "name": "stdout",
     "output_type": "stream",
     "text": [
      "10\n"
     ]
    }
   ],
   "source": [
    "#numero de elementos de um array\n",
    "print(numeros.size)"
   ]
  },
  {
   "cell_type": "code",
   "execution_count": 84,
   "metadata": {},
   "outputs": [
    {
     "name": "stdout",
     "output_type": "stream",
     "text": [
      "[ 3 12  6  7  8  1  0  3  5 16]\n"
     ]
    }
   ],
   "source": [
    "#imprimindo um array para ver o conteúdo\n",
    "print(numeros)"
   ]
  },
  {
   "cell_type": "code",
   "execution_count": 112,
   "metadata": {},
   "outputs": [
    {
     "name": "stdout",
     "output_type": "stream",
     "text": [
      "posicao 0: 9\n",
      "posicao 1: 12\n",
      "posicao 2: 6\n",
      "posicao 3: 7\n",
      "posicao 4: 8\n",
      "posicao 5: 1\n",
      "posicao 6: 0\n",
      "posicao 7: 3\n",
      "posicao 8: 5\n",
      "posicao 9: 16\n"
     ]
    }
   ],
   "source": [
    "for i in range(0, numeros.size):#[0 até 10[ : 0,1,2,3,4,5,6,7,8,9\n",
    "    print(f'posicao {i}: {numeros[i]}')"
   ]
  },
  {
   "cell_type": "code",
   "execution_count": 105,
   "metadata": {},
   "outputs": [
    {
     "name": "stdout",
     "output_type": "stream",
     "text": [
      "9\n",
      "12\n",
      "8\n",
      "16\n",
      "5\n",
      "3\n",
      "6\n"
     ]
    }
   ],
   "source": [
    "#acessando elementos individuais de um array\n",
    "print(numeros[0])# primeira posicao do array\n",
    "print(numeros[1])# segunda posicao do array\n",
    "print(numeros[4])\n",
    "print(numeros[-1]) #ultima posicao do array\n",
    "print(numeros[-2]) #penúltima posicao do array\n",
    "print(numeros[-3]) #antepenúltima posicao do array\n",
    "print(numeros[-8])\n"
   ]
  },
  {
   "cell_type": "code",
   "execution_count": 104,
   "metadata": {},
   "outputs": [
    {
     "name": "stdout",
     "output_type": "stream",
     "text": [
      "9\n"
     ]
    }
   ],
   "source": [
    "#fazendo alteracoes no vetor\n",
    "numeros[0] = 9\n",
    "print(numeros[0])"
   ]
  },
  {
   "cell_type": "code",
   "execution_count": 115,
   "metadata": {},
   "outputs": [
    {
     "name": "stdout",
     "output_type": "stream",
     "text": [
      "<class 'list'>\n",
      "[16, 5, 3, 0, 1, 8, 7, 6, 12, 9]\n"
     ]
    }
   ],
   "source": [
    "#converteu o array em lista e imprimiu invertido\n",
    "lista_ = list(reversed(numeros))\n",
    "print(type(lista_))\n",
    "print(lista_)"
   ]
  },
  {
   "cell_type": "markdown",
   "metadata": {},
   "source": [
    "<H1>Peenchendo arrays com valores específicos</H1>"
   ]
  },
  {
   "cell_type": "code",
   "execution_count": 116,
   "metadata": {},
   "outputs": [
    {
     "name": "stdout",
     "output_type": "stream",
     "text": [
      "[  0   2   4   6   8  10  12  14  16  18  20  22  24  26  28  30  32  34\n",
      "  36  38  40  42  44  46  48  50  52  54  56  58  60  62  64  66  68  70\n",
      "  72  74  76  78  80  82  84  86  88  90  92  94  96  98 100]\n"
     ]
    }
   ],
   "source": [
    "#criar um array com numeros pares de 0 a 100\n",
    "pares = np.array([n for n in range(0, 101,2)])\n",
    "print(pares)"
   ]
  },
  {
   "cell_type": "code",
   "execution_count": 117,
   "metadata": {},
   "outputs": [
    {
     "name": "stdout",
     "output_type": "stream",
     "text": [
      "[0. 0. 0. 0. 0. 0. 0. 0. 0. 0.]\n"
     ]
    }
   ],
   "source": [
    "#cria um array com 10 elementos iguais a zero\n",
    "print(np.zeros(10)) "
   ]
  },
  {
   "cell_type": "code",
   "execution_count": 89,
   "metadata": {},
   "outputs": [
    {
     "name": "stdout",
     "output_type": "stream",
     "text": [
      "[1. 1. 1. 1. 1. 1. 1. 1. 1. 1. 1. 1. 1. 1. 1.]\n"
     ]
    }
   ],
   "source": [
    "#cria um array com 15 elementos iguais a um\n",
    "print(np.ones(15))"
   ]
  },
  {
   "cell_type": "code",
   "execution_count": 118,
   "metadata": {},
   "outputs": [
    {
     "name": "stdout",
     "output_type": "stream",
     "text": [
      "[12 12 12 12 12 12 12 12]\n"
     ]
    }
   ],
   "source": [
    "#criar array com 8 posicoes iguais a 12 (int)\n",
    "#primeiro argumento: num de elementos\n",
    "#segundo argumento: o valor que ira preencher em cada posicao do array\n",
    "print(np.full(8, 12))"
   ]
  },
  {
   "cell_type": "code",
   "execution_count": 121,
   "metadata": {},
   "outputs": [
    {
     "name": "stdout",
     "output_type": "stream",
     "text": [
      "[0 0 0 0 0 0 0 0 0 0]\n",
      "['1' '1' '1' '1' '1' '1' '1' '1' '1' '1' '1' '1' '1' '1' '1']\n",
      "[12. 12. 12. 12. 12. 12. 12. 12.]\n"
     ]
    }
   ],
   "source": [
    "#Podemos especificar o tipo de dados dos elementos\n",
    "print(np.zeros(10, dtype = int)) \n",
    "print(np.ones(15, dtype = str))\n",
    "print(np.full(8, 12, dtype = float))"
   ]
  },
  {
   "cell_type": "markdown",
   "metadata": {},
   "source": [
    "<H1>Criar array a partir de faixas de valores</H1>"
   ]
  },
  {
   "cell_type": "code",
   "execution_count": 157,
   "metadata": {},
   "outputs": [
    {
     "name": "stdout",
     "output_type": "stream",
     "text": [
      "[0 1 2 3 4 5 6 7 8 9]\n",
      "[0. 1. 2. 3. 4. 5. 6. 7. 8. 9.]\n",
      "[ 5  6  7  8  9 10 11 12 13 14 15]\n",
      "[50 48 46 44 42 40 38 36 34 32 30 28 26 24 22 20 18 16 14 12 10  8  6  4\n",
      "  2]\n",
      "[10  9  8  7  6  5  4  3  2  1]\n"
     ]
    }
   ],
   "source": [
    "print(np.arange(10))#array de 10 elementos, numeros de 0 a 9\n",
    "print(np.arange(10.))#array de 10 elementos float, numeros de 0 a 9\n",
    "print(np.arange(5,16))#array com valores no intervalo de 5 a 15\n",
    "print(np.arange(50, 1, -2))#array com os numeros pares de 50 ate 1\n",
    "print(np.arange(numeros.size, 0, -1))"
   ]
  },
  {
   "cell_type": "code",
   "execution_count": 93,
   "metadata": {},
   "outputs": [
    {
     "name": "stdout",
     "output_type": "stream",
     "text": [
      "[0.78535827 0.82372174 0.33545729 0.30774186 0.34367042 0.28321228\n",
      " 0.04635304 0.25621434 0.78532412 0.22029195]\n"
     ]
    }
   ],
   "source": [
    "#criar e preencher array com valores aleatorios\n",
    "a = np.random.rand(10)\n",
    "print(a)"
   ]
  },
  {
   "cell_type": "code",
   "execution_count": 156,
   "metadata": {},
   "outputs": [
    {
     "name": "stdout",
     "output_type": "stream",
     "text": [
      "Número sorteado: 6\n"
     ]
    }
   ],
   "source": [
    "#Gera um numero aleatorio entre 0 e 8\n",
    "print(f'Número sorteado: {np.random.randint(9)}')"
   ]
  },
  {
   "cell_type": "code",
   "execution_count": 158,
   "metadata": {},
   "outputs": [
    {
     "name": "stdout",
     "output_type": "stream",
     "text": [
      "[19 13 12 11 11 15 10 10 11 14]\n"
     ]
    }
   ],
   "source": [
    "#Gera 10 numeros aleatorios inteiros entre 10 e 20\n",
    "b = np.random.randint(10, 20, size=10)\n",
    "print(b)"
   ]
  },
  {
   "cell_type": "markdown",
   "metadata": {},
   "source": [
    "<H1>Um pouco de estatistica ....</H1>"
   ]
  },
  {
   "cell_type": "code",
   "execution_count": 159,
   "metadata": {},
   "outputs": [
    {
     "name": "stdout",
     "output_type": "stream",
     "text": [
      "Média de b: 12.6\n",
      "Mediana de b: 11.5\n",
      "Menor valor de b: 10\n",
      "Maior valor de b: 19\n",
      "------------------\n",
      "Somatoria de b: 126\n"
     ]
    }
   ],
   "source": [
    "print(f'Média de b: {np.mean(b)}')#calculo da media artimetica\n",
    "print(f'Mediana de b: {np.median(b)}')#calculo da mediana\n",
    "print(f'Menor valor de b: {np.min(b)}')\n",
    "print(f'Maior valor de b: {np.max(b)}')\n",
    "print('------------------')\n",
    "print(f'Somatoria de b: {np.sum(b)}')"
   ]
  },
  {
   "cell_type": "code",
   "execution_count": 6,
   "metadata": {},
   "outputs": [
    {
     "name": "stdout",
     "output_type": "stream",
     "text": [
      "['' '' '']\n",
      "['Anderson' 'João' 'Maria']\n"
     ]
    }
   ],
   "source": [
    "a = np.array(['', '', ''], dtype=object)\n",
    "print(a)\n",
    "\n",
    "\n",
    "for i in range(0, len(a)):\n",
    "    a[i] = input('Qual seu nome?')\n",
    "\n",
    "print(a)"
   ]
  },
  {
   "cell_type": "code",
   "execution_count": null,
   "metadata": {},
   "outputs": [],
   "source": []
  }
 ],
 "metadata": {
  "interpreter": {
   "hash": "63fd5069d213b44bf678585dea6b12cceca9941eaf7f819626cde1f2670de90d"
  },
  "kernelspec": {
   "display_name": "Python 3.9.1 64-bit",
   "name": "python3"
  },
  "language_info": {
   "codemirror_mode": {
    "name": "ipython",
    "version": 3
   },
   "file_extension": ".py",
   "mimetype": "text/x-python",
   "name": "python",
   "nbconvert_exporter": "python",
   "pygments_lexer": "ipython3",
   "version": "3.9.1"
  },
  "orig_nbformat": 4
 },
 "nbformat": 4,
 "nbformat_minor": 2
}
